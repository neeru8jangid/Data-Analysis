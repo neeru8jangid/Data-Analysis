{
 "cells": [
  {
   "cell_type": "code",
   "execution_count": 2,
   "id": "5e32d0a0",
   "metadata": {},
   "outputs": [],
   "source": [
    "import pandas as pd\n",
    "import numpy as np\n",
    "from sklearn.cluster import KMeans, DBSCAN\n",
    "from sklearn.preprocessing import StandardScaler\n",
    "\n",
    "# Load data\n",
    "data = pd.read_csv('Customer_Data.csv')\n",
    "\n",
    "  # Clean data\n",
    "data = data[data['Monthly_Charge'] >= 0]\n",
    "data.fillna({'Gender': 'Unknown', 'Contract': 'Unknown', 'Internet_Type': 'None'}, inplace=True)\n",
    "\n",
    "  # Feature engineering\n",
    "data['Average_Monthly_Charge'] = data['Total_Charges'] / (data['Tenure_in_Months'] + 1)\n",
    "data['Referral_Rate'] = data['Number_of_Referrals'] / (data['Tenure_in_Months'] + 1)\n",
    "data['Purchase_Frequency'] = np.where(data['Tenure_in_Months'] > 0, 1 / data['Tenure_in_Months'], 0)\n",
    "data['Engagement_Score'] = (\n",
    "    data['Number_of_Referrals'] / (data['Number_of_Referrals'].max() + 1) +\n",
    "    data['Multiple_Lines'].apply(lambda x: 0.3 if x == 'Yes' else 0) +\n",
    "    data['Internet_Service'].apply(lambda x: 0.3 if x == 'Yes' else 0) +\n",
    "    data['Streaming_TV'].apply(lambda x: 0.2 if x == 'Yes' else 0) +\n",
    "    data['Streaming_Movies'].apply(lambda x: 0.2 if x == 'Yes' else 0)\n",
    ")\n",
    "\n",
    "  # Normalize numerical features\n",
    "scaler = StandardScaler()\n",
    "numerical_cols = ['Age', 'Tenure_in_Months', 'Monthly_Charge', 'Average_Monthly_Charge', 'Referral_Rate', 'Purchase_Frequency', 'Engagement_Score']\n",
    "data[numerical_cols] = scaler.fit_transform(data[numerical_cols])\n",
    "\n",
    "  # Clustering with K-Means\n",
    "X_cluster = data[['Average_Monthly_Charge', 'Tenure_in_Months', 'Engagement_Score']].fillna(0)\n",
    "kmeans = KMeans(n_clusters=3, random_state=42)\n",
    "data['Cluster'] = kmeans.fit_predict(X_cluster)\n",
    "\n",
    "  # Anomaly detection with DBSCAN\n",
    "X_anomaly = data[['Average_Monthly_Charge', 'Tenure_in_Months', 'Engagement_Score']].fillna(0)\n",
    "dbscan = DBSCAN(eps=0.5, min_samples=5)\n",
    "data['Anomaly'] = dbscan.fit_predict(X_anomaly)\n",
    "\n",
    "  # Save enhanced dataset\n",
    "data.to_csv('Customer_Data_Enhanced.csv', index=False)"
   ]
  },
  {
   "cell_type": "code",
   "execution_count": 6,
   "id": "f6d373b5",
   "metadata": {},
   "outputs": [
    {
     "name": "stderr",
     "output_type": "stream",
     "text": [
      "c:\\Users\\Neeru Jangid\\AppData\\Local\\Programs\\Python\\Python311\\Lib\\site-packages\\xgboost\\training.py:183: UserWarning: [13:19:15] WARNING: C:\\actions-runner\\_work\\xgboost\\xgboost\\src\\learner.cc:738: \n",
      "Parameters: { \"use_label_encoder\" } are not used.\n",
      "\n",
      "  bst.update(dtrain, iteration=i, fobj=obj)\n"
     ]
    },
    {
     "name": "stdout",
     "output_type": "stream",
     "text": [
      "[LightGBM] [Info] Number of positive: 1220, number of negative: 3197\n",
      "[LightGBM] [Info] Auto-choosing row-wise multi-threading, the overhead of testing was 0.000083 seconds.\n",
      "You can set `force_row_wise=true` to remove the overhead.\n",
      "And if memory is not enough, you can set `force_col_wise=true`.\n",
      "[LightGBM] [Info] Total Bins 721\n",
      "[LightGBM] [Info] Number of data points in the train set: 4417, number of used features: 6\n",
      "[LightGBM] [Info] [binary:BoostFromScore]: pavg=0.276206 -> initscore=-0.963362\n",
      "[LightGBM] [Info] Start training from score -0.963362\n"
     ]
    }
   ],
   "source": [
    "import pandas as pd\n",
    "from sklearn.model_selection import train_test_split\n",
    "from sklearn.linear_model import LogisticRegression\n",
    "from sklearn.tree import DecisionTreeClassifier\n",
    "from sklearn.ensemble import RandomForestClassifier\n",
    "from xgboost import XGBClassifier\n",
    "from lightgbm import LGBMClassifier\n",
    "from sklearn.metrics import accuracy_score, precision_score, recall_score\n",
    "\n",
    "  # Load data\n",
    "data = pd.read_csv('Customer_Data_Enhanced.csv')\n",
    "data['Churn_Label'] = data['Customer_Status'].map({'Stayed': 0, 'Churned': 1, 'Joined': 0})  # Treat Joined as non-churned\n",
    "\n",
    "  # Features and target\n",
    "features = ['Age', 'Tenure_in_Months', 'Monthly_Charge', 'Number_of_Referrals', 'Average_Monthly_Charge', 'Engagement_Score']\n",
    "X = data[features].fillna(0)\n",
    "y = data['Churn_Label']\n",
    "X_train, X_test, y_train, y_test = train_test_split(X, y, test_size=0.3, random_state=42)\n",
    "\n",
    "  # Initialize models\n",
    "models = {\n",
    "    'Logistic Regression': LogisticRegression(random_state=42),\n",
    "    'Decision Tree': DecisionTreeClassifier(random_state=42),\n",
    "    'Random Forest': RandomForestClassifier(random_state=42),\n",
    "    'XGBoost': XGBClassifier(random_state=42, use_label_encoder=False, eval_metric='logloss'),\n",
    "    'LightGBM': LGBMClassifier(random_state=42)\n",
    "}\n",
    "\n",
    "  # Train and evaluate models\n",
    "results = []\n",
    "for name, model in models.items():\n",
    "    model.fit(X_train, y_train)\n",
    "    y_pred = model.predict(X_test)\n",
    "    results.append({\n",
    "        'Model': name,\n",
    "        'Accuracy': accuracy_score(y_test, y_pred),\n",
    "        'Precision': precision_score(y_test, y_pred),\n",
    "        'Recall': recall_score(y_test, y_pred)\n",
    "    })\n",
    "    if name == 'Random Forest':\n",
    "        data['Churn_Probability'] = model.predict_proba(X)[:, 1]\n",
    "        importance = pd.DataFrame({'Feature': features, 'Importance': model.feature_importances_})\n",
    "        importance.to_csv('Feature_Importance.csv', index=False)\n",
    "\n",
    "  # Save results\n",
    "pd.DataFrame(results).to_csv('Model_Performance.csv', index=False)\n",
    "data.to_csv('Customer_Data_Predictions.csv', index=False)"
   ]
  },
  {
   "cell_type": "code",
   "execution_count": 7,
   "id": "01d9b60d",
   "metadata": {},
   "outputs": [],
   "source": [
    "from sklearn.neural_network import MLPClassifier\n",
    "def train_ann(data):\n",
    "    X = data[['Age', 'Tenure_in_Months', 'Monthly_Charge', 'Number_of_Referrals', 'Average_Monthly_Charge', 'Engagement_Score']].fillna(0)\n",
    "    y = data['Customer_Status'].map({'Stayed': 0, 'Churned': 1, 'Joined': 0})\n",
    "    X_train, X_test, y_train, y_test = train_test_split(X, y, test_size=0.3, random_state=42)\n",
    "    ann = MLPClassifier(hidden_layer_sizes=(100, 50), max_iter=500, random_state=42)\n",
    "    ann.fit(X_train, y_train)\n",
    "    data['ANN_Churn_Probability'] = ann.predict_proba(X)[:, 1]\n",
    "    data.to_csv('Customer_Data_ANN.csv', index=False)\n",
    "train_ann(data)"
   ]
  },
  {
   "cell_type": "code",
   "execution_count": 8,
   "id": "cda05890",
   "metadata": {},
   "outputs": [
    {
     "name": "stderr",
     "output_type": "stream",
     "text": [
      "c:\\Users\\Neeru Jangid\\AppData\\Local\\Programs\\Python\\Python311\\Lib\\site-packages\\keras\\src\\layers\\rnn\\rnn.py:204: UserWarning: Do not pass an `input_shape`/`input_dim` argument to a layer. When using Sequential models, prefer using an `Input(shape)` object as the first layer in the model instead.\n",
      "  super().__init__(**kwargs)\n"
     ]
    },
    {
     "name": "stdout",
     "output_type": "stream",
     "text": [
      "\u001b[1m2/2\u001b[0m \u001b[32m━━━━━━━━━━━━━━━━━━━━\u001b[0m\u001b[37m\u001b[0m \u001b[1m0s\u001b[0m 130ms/step\n"
     ]
    }
   ],
   "source": [
    "from tensorflow.keras.models import Sequential\n",
    "from tensorflow.keras.layers import LSTM, Dense\n",
    "def train_rnn(data):\n",
    "    # Aggregate by Tenure_in_Months\n",
    "    ts_data = data.groupby('Tenure_in_Months').agg({'Churn_Label': 'mean', 'Total_Charges': 'sum'}).reset_index()\n",
    "    X = ts_data[['Total_Charges']].values\n",
    "    y = ts_data['Churn_Label'].values\n",
    "    X = X.reshape((X.shape[0], 1, X.shape[1]))  # Reshape for LSTM\n",
    "    model = Sequential()\n",
    "    model.add(LSTM(50, input_shape=(1, X.shape[2])))\n",
    "    model.add(Dense(1, activation='sigmoid'))\n",
    "    model.compile(optimizer='adam', loss='binary_crossentropy')\n",
    "    model.fit(X, y, epochs=50, verbose=0)\n",
    "    ts_data['RNN_Churn_Probability'] = model.predict(X)\n",
    "    ts_data.to_csv('RNN_Forecast.csv', index=False)\n",
    "train_rnn(data)"
   ]
  },
  {
   "cell_type": "code",
   "execution_count": null,
   "id": "e54c9e88",
   "metadata": {},
   "outputs": [],
   "source": []
  }
 ],
 "metadata": {
  "kernelspec": {
   "display_name": "Python 3",
   "language": "python",
   "name": "python3"
  },
  "language_info": {
   "codemirror_mode": {
    "name": "ipython",
    "version": 3
   },
   "file_extension": ".py",
   "mimetype": "text/x-python",
   "name": "python",
   "nbconvert_exporter": "python",
   "pygments_lexer": "ipython3",
   "version": "3.11.2"
  }
 },
 "nbformat": 4,
 "nbformat_minor": 5
}
